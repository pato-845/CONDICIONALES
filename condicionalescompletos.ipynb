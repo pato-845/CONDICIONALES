{
 "cells": [
  {
   "cell_type": "code",
   "execution_count": 253,
   "metadata": {},
   "outputs": [
    {
     "name": "stdout",
     "output_type": "stream",
     "text": [
      "g2\"/y&.0\n"
     ]
    }
   ],
   "source": [
    "# !\"#$%&()+,-./0123456789?@ABCDEFGHIJKLMNOPQRSTUVWXYZabcdefghijklmnopqrstuvwxyz\n",
    "\n",
    "\n",
    "\n",
    "\n",
    "import random\n",
    "random.seed(1234)\n",
    "\n",
    "chars = '\"#$%&()+,-./0123456789?@ABCDEFGHIJKLMNOPQRSTUVWXYZabcdefghijklmnopqrstuvwxyz'\n",
    "password = ''\n",
    "\n",
    "lengthPW = int(input('que longuitud para tu pw'))\n",
    "\n",
    "for _ in range(lengthPW):\n",
    "\n",
    "    password += random.choice(chars)\n",
    "\n",
    "print(password)"
   ]
  },
  {
   "cell_type": "code",
   "execution_count": null,
   "metadata": {},
   "outputs": [
    {
     "name": "stdout",
     "output_type": "stream",
     "text": [
      "71019011\n"
     ]
    }
   ],
   "source": [
    "# 0123456789\n",
    "\n",
    "import random\n",
    "random.seed(1234)\n",
    "\n",
    "chars = '0123456789'\n",
    "password = ''\n",
    "\n",
    "lengthPW = int(input('que longuitud para tu pw'))\n",
    "\n",
    "for _ in range(lengthPW):\n",
    "\n",
    "    password += random.choice(chars)\n",
    "\n",
    "print(password)"
   ]
  },
  {
   "cell_type": "code",
   "execution_count": null,
   "metadata": {},
   "outputs": [
    {
     "name": "stdout",
     "output_type": "stream",
     "text": [
      "xcHAFzlC\n"
     ]
    }
   ],
   "source": [
    "# ABCDEFGHIJKLMNOPQRSTUVWXYZabcdefghijklmnopqrstuvwxyz\n",
    "\n",
    "\n",
    "\n",
    "\n",
    "import random\n",
    "random.seed(1234)\n",
    "\n",
    "chars = 'ABCDEFGHIJKLMNOPQRSTUVWXYZabcdefghijklmnopqrstuvwxyz'\n",
    "password = ''\n",
    "\n",
    "lengthPW = int(input('que longuitud para tu pw'))\n",
    "\n",
    "for _ in range(lengthPW):\n",
    "\n",
    "    password += random.choice(chars)\n",
    "\n",
    "print(password)"
   ]
  },
  {
   "cell_type": "code",
   "execution_count": 252,
   "metadata": {},
   "outputs": [
    {
     "name": "stdout",
     "output_type": "stream",
     "text": [
      "contraseña correcta\n"
     ]
    }
   ],
   "source": [
    "contraseña = \"computadora\"\n",
    "contador = 0 \n",
    "\n",
    "while True:\n",
    "    contraseña_input = input(\"introduzca una contraseña\")\n",
    "    contador +=1\n",
    "\n",
    "    if contador >3:\n",
    "        print(\"haz sobrepasado los intentos\")\n",
    "\n",
    "    elif contraseña_input == \"computadora\":\n",
    "        print(\"contraseña correcta\")\n",
    "        break\n",
    "\n",
    "    else:\n",
    "        print(\"contraseña incorrecta , introduzca una contraseña correcta\")"
   ]
  }
 ],
 "metadata": {
  "kernelspec": {
   "display_name": "Python 3",
   "language": "python",
   "name": "python3"
  },
  "language_info": {
   "codemirror_mode": {
    "name": "ipython",
    "version": 3
   },
   "file_extension": ".py",
   "mimetype": "text/x-python",
   "name": "python",
   "nbconvert_exporter": "python",
   "pygments_lexer": "ipython3",
   "version": "3.12.2"
  }
 },
 "nbformat": 4,
 "nbformat_minor": 2
}
